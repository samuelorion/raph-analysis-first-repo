{
 "cells": [
  {
   "cell_type": "code",
   "execution_count": 5,
   "metadata": {},
   "outputs": [],
   "source": [
    "import os, glob\n",
    "import pandas as pd"
   ]
  },
  {
   "cell_type": "code",
   "execution_count": 22,
   "metadata": {},
   "outputs": [],
   "source": [
    "dataInput = \"/Users/samuelorion/Desktop/assorted-desktop/raph-analysis/skeleton-output\" # directory of raw data — note you will need to change this to your own directory\n",
    "dataOutput = \"/Users/samuelorion/Desktop/assorted-desktop/raph-analysis/cleaned-data\" # directory of combined data — note you will need to change this to your own directory\n",
    "\n",
    "all_files = glob.glob(os.path.join(dataInput, \"*.csv\")) # get all the csv files in the directory\n",
    "\n",
    "#create function to read each csv file in all_files, clean the data, and append to a new data frame\n",
    "def read_and_clean_data(file):\n",
    "    #read the csv file\n",
    "    df = pd.read_csv(file, sep=',')\n",
    "    #clean the data\n",
    "    df['Slice'] = file.split('/')[-1].split('_')[-1].split('.')[-2] # Cleanup the Slice number\n",
    "    del df[df.columns[0]] # Remove the first columns\n",
    "    #remove '#' symbol from collumn names\n",
    "    df.columns = df.columns.str.replace('#', '')\n",
    "    #create new column for the file name \n",
    "    df['File'] = file.split('/')[-1].split('.')[0]\n",
    "    #remove \".csv\" and \".tif\" from the file name\n",
    "    df['File'] = df['File'].str.replace('.csv', '')\n",
    "    df['File'] = df['File'].str.replace('.tif', '')\n",
    "\n",
    "    return df"
   ]
  },
  {
   "cell_type": "code",
   "execution_count": 23,
   "metadata": {},
   "outputs": [
    {
     "name": "stdout",
     "output_type": "stream",
     "text": [
      "     Branches   Junctions   End-point voxels   Junction voxels   Slab voxels  \\\n",
      "0        1837         424                820              5420          2585   \n",
      "1          21           7                 11                57            37   \n",
      "2          69          20                 32               140           117   \n",
      "3          36           9                 21                84            65   \n",
      "4          61          11                 33               248            96   \n",
      "5          24           8                 14                59            43   \n",
      "6          28           6                 16                66            44   \n",
      "7          29           8                 15                85            36   \n",
      "8          55          13                 30               113            75   \n",
      "9         101          23                 47               271           142   \n",
      "10         30           7                 18                70            35   \n",
      "11         24           7                 10                48            42   \n",
      "\n",
      "    Average Branch Length   Triple points   Quadruple points  \\\n",
      "0                    11.8             161                 87   \n",
      "1                     6.9               3                  2   \n",
      "2                     7.8               9                  2   \n",
      "3                     7.5               0                  4   \n",
      "4                    19.4               4                  2   \n",
      "5                     6.0               3                  2   \n",
      "6                     9.8               2                  1   \n",
      "7                     7.0               3                  1   \n",
      "8                     7.2               5                  1   \n",
      "9                    10.2               6                  4   \n",
      "10                    8.1               0                  3   \n",
      "11                    7.2               3                  0   \n",
      "\n",
      "    Maximum Branch Length Slice          File  \n",
      "0                    90.8   292  0-VTA-S1C1P1  \n",
      "1                    18.5   292  0-VTA-S1C1P1  \n",
      "2                    21.1   292  0-VTA-S1C1P1  \n",
      "3                    16.1   292  0-VTA-S1C1P1  \n",
      "4                    79.8   292  0-VTA-S1C1P1  \n",
      "5                    15.5   292  0-VTA-S1C1P1  \n",
      "6                    34.9   292  0-VTA-S1C1P1  \n",
      "7                    19.1   292  0-VTA-S1C1P1  \n",
      "8                    20.9   292  0-VTA-S1C1P1  \n",
      "9                    44.1   292  0-VTA-S1C1P1  \n",
      "10                   22.8   292  0-VTA-S1C1P1  \n",
      "11                   15.7   292  0-VTA-S1C1P1  \n"
     ]
    },
    {
     "name": "stderr",
     "output_type": "stream",
     "text": [
      "<ipython-input-22-364d2413a129>:18: FutureWarning: The default value of regex will change from True to False in a future version.\n",
      "  df['File'] = df['File'].str.replace('.csv', '')\n",
      "<ipython-input-22-364d2413a129>:19: FutureWarning: The default value of regex will change from True to False in a future version.\n",
      "  df['File'] = df['File'].str.replace('.tif', '')\n"
     ]
    },
    {
     "ename": "NameError",
     "evalue": "name 'df_mean' is not defined",
     "output_type": "error",
     "traceback": [
      "\u001b[0;31m---------------------------------------------------------------------------\u001b[0m",
      "\u001b[0;31mNameError\u001b[0m                                 Traceback (most recent call last)",
      "\u001b[0;32m<ipython-input-23-4c744f8eb01e>\u001b[0m in \u001b[0;36m<module>\u001b[0;34m\u001b[0m\n\u001b[1;32m      2\u001b[0m \u001b[0mdf\u001b[0m \u001b[0;34m=\u001b[0m \u001b[0mread_and_clean_data\u001b[0m\u001b[0;34m(\u001b[0m\u001b[0mall_files\u001b[0m\u001b[0;34m[\u001b[0m\u001b[0;36m0\u001b[0m\u001b[0;34m]\u001b[0m\u001b[0;34m)\u001b[0m\u001b[0;34m\u001b[0m\u001b[0;34m\u001b[0m\u001b[0m\n\u001b[1;32m      3\u001b[0m \u001b[0mprint\u001b[0m\u001b[0;34m(\u001b[0m\u001b[0mdf\u001b[0m\u001b[0;34m)\u001b[0m\u001b[0;34m\u001b[0m\u001b[0;34m\u001b[0m\u001b[0m\n\u001b[0;32m----> 4\u001b[0;31m \u001b[0mprint\u001b[0m\u001b[0;34m(\u001b[0m\u001b[0mdf_mean\u001b[0m\u001b[0;34m)\u001b[0m\u001b[0;34m\u001b[0m\u001b[0;34m\u001b[0m\u001b[0m\n\u001b[0m",
      "\u001b[0;31mNameError\u001b[0m: name 'df_mean' is not defined"
     ]
    }
   ],
   "source": [
    "#test the function\n",
    "df = read_and_clean_data(all_files[0])\n",
    "print(df)\n",
    "print(df_mean)"
   ]
  }
 ],
 "metadata": {
  "interpreter": {
   "hash": "7a03bc32d639d464fd8cb22e1a4abf8b3bd7041bc95fdb701ed8418c6066828c"
  },
  "kernelspec": {
   "display_name": "Python 3.8.8 64-bit ('base': conda)",
   "language": "python",
   "name": "python3"
  },
  "language_info": {
   "codemirror_mode": {
    "name": "ipython",
    "version": 3
   },
   "file_extension": ".py",
   "mimetype": "text/x-python",
   "name": "python",
   "nbconvert_exporter": "python",
   "pygments_lexer": "ipython3",
   "version": "3.8.8"
  },
  "orig_nbformat": 4
 },
 "nbformat": 4,
 "nbformat_minor": 2
}

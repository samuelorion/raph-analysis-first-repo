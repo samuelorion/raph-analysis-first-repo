{
 "cells": [
  {
   "cell_type": "code",
   "execution_count": 3,
   "metadata": {},
   "outputs": [],
   "source": [
    "import os, glob\n",
    "import pandas as pd\n",
    "\n",
    "dataInput = \"/Users/samuelorion/Desktop/assorted-desktop/raph-analysis/skeleton-output\" # directory of raw data — note you will need to change this to your own directory\n",
    "dataOutput = \"/Users/samuelorion/Desktop/assorted-desktop/raph-analysis/cleaned-data\" # directory of combined data — note you will need to change this to your own directory\n",
    "\n"
   ]
  },
  {
   "cell_type": "code",
   "execution_count": 16,
   "metadata": {},
   "outputs": [],
   "source": [
    "all_files = glob.glob(os.path.join(dataInput, \"*.csv\")) # get all the csv files in the directory\n",
    "\n",
    "all_df = [] # create an empty list\n",
    "for f in all_files: # loop through all the files\n",
    "    df = pd.read_csv(f, sep=',') # Read the CSV file and seperate values by \",\"\n",
    "    df['Slice'] = f.split('/')[-1].split('_')[-1].split('.')[-2] # Cleanup the Slice number\n",
    "    del df[df.columns[0]] # Remove the first columns\n",
    "    all_df.append(df) \n",
    "    \n",
    "df_merged = pd.concat(all_df, ignore_index=True, sort=True)\n",
    "\n",
    "df_merged.to_csv(dataOutput + \"combinedData.csv\")"
   ]
  }
 ],
 "metadata": {
  "interpreter": {
   "hash": "7a03bc32d639d464fd8cb22e1a4abf8b3bd7041bc95fdb701ed8418c6066828c"
  },
  "kernelspec": {
   "display_name": "Python 3.8.8 64-bit ('base': conda)",
   "language": "python",
   "name": "python3"
  },
  "language_info": {
   "codemirror_mode": {
    "name": "ipython",
    "version": 3
   },
   "file_extension": ".py",
   "mimetype": "text/x-python",
   "name": "python",
   "nbconvert_exporter": "python",
   "pygments_lexer": "ipython3",
   "version": "3.8.8"
  },
  "orig_nbformat": 4
 },
 "nbformat": 4,
 "nbformat_minor": 2
}
